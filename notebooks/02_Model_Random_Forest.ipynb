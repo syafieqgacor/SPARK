{
 "cells": [
  {
   "cell_type": "markdown",
   "id": "4a8ff3d2",
   "metadata": {},
   "source": [
    "## 1. Import Library\n"
   ]
  },
  {
   "cell_type": "code",
   "execution_count": 171,
   "id": "b5980692",
   "metadata": {},
   "outputs": [],
   "source": [
    "import pandas as pd\n",
    "import geopandas as gpd\n",
    "import os\n",
    "import glob\n",
    "import numpy as np\n",
    "import matplotlib.pyplot as plt\n",
    "import seaborn as sns\n",
    "from sklearn.model_selection import RandomizedSearchCV\n",
    "from imblearn.over_sampling import SMOTE\n",
    "from sklearn.ensemble import RandomForestClassifier\n",
    "from sklearn.metrics import confusion_matrix, ConfusionMatrixDisplay, classification_report\n",
    "\n",
    "sns.set_theme(style=\"whitegrid\")"
   ]
  },
  {
   "cell_type": "markdown",
   "id": "870d3f14",
   "metadata": {},
   "source": [
    "## 2. Memuat Dataset yang Telah Diproses\n"
   ]
  },
  {
   "cell_type": "code",
   "execution_count": 172,
   "id": "4aa90476",
   "metadata": {},
   "outputs": [
    {
     "name": "stdout",
     "output_type": "stream",
     "text": [
      "\n",
      "Dataset berhasil dimuat.\n"
     ]
    }
   ],
   "source": [
    "file_path = 'E:/SPARK/SPARK/data/processed/dataset_final_karhutla_kalteng.csv'\n",
    "try:\n",
    "    df_final = pd.read_csv(file_path, parse_dates=['DATA_TIMESTAMP'])\n",
    "    print(\"\\nDataset berhasil dimuat.\")\n",
    "except FileNotFoundError:\n",
    "    print(f\"\\nERROR: File tidak ditemukan di '{file_path}'.\")\n",
    "    df_final = None"
   ]
  },
  {
   "cell_type": "markdown",
   "id": "5a1e6d2a",
   "metadata": {},
   "source": [
    "## 3. Feature Engineering & Persiapan Target Klasifikasi"
   ]
  },
  {
   "cell_type": "code",
   "execution_count": 173,
   "id": "4393c327",
   "metadata": {},
   "outputs": [
    {
     "name": "stdout",
     "output_type": "stream",
     "text": [
      "\n",
      "Feature engineering dan persiapan target biner selesai.\n",
      "\n",
      "Sebaran Kategori Risiko (0=Aman, 1=Berisiko):\n",
      "KATEGORI_RISIKO\n",
      "0    3763\n",
      "1     831\n",
      "Name: count, dtype: int64\n"
     ]
    }
   ],
   "source": [
    "if df_final is not None:\n",
    "    # Mengurutkan data\n",
    "    df_final = df_final.sort_values(by=['KABUPATEN', 'DATA_TIMESTAMP']).reset_index(drop=True)\n",
    "\n",
    "    # Menambahkan fitur-fitur\n",
    "    df_final['rr_kumulatif_7_hari'] = df_final.groupby('KABUPATEN')['rr'].transform(lambda x: x.rolling(7, min_periods=1).sum())\n",
    "    df_final['TAHUN'] = df_final['DATA_TIMESTAMP'].dt.year\n",
    "    df_final['BULAN'] = df_final['DATA_TIMESTAMP'].dt.month\n",
    "    df_final['HARI_KE'] = df_final['DATA_TIMESTAMP'].dt.dayofyear\n",
    "    \n",
    "    # Membuat target biner (0 = Aman, 1 = Berisiko)\n",
    "    df_final['KATEGORI_RISIKO'] = (df_final['JUMLAH_HOTSPOT'] > 0).astype(int)\n",
    "    \n",
    "    # One-Hot Encoding dan persiapan data\n",
    "    df_processed = pd.get_dummies(df_final, columns=['ddd_car'], prefix='arah_angin', dummy_na=True)\n",
    "    df_klasifikasi = df_processed.drop(columns=['JUMLAH_HOTSPOT', 'DATA_TIMESTAMP', 'KABUPATEN'])\n",
    "    \n",
    "    print(\"\\nFeature engineering dan persiapan target biner selesai.\")\n",
    "    print(\"\\nSebaran Kategori Risiko (0=Aman, 1=Berisiko):\")\n",
    "    print(df_final['KATEGORI_RISIKO'].value_counts())\n",
    "else:\n",
    "    print(\"\\nGagal melanjutkan karena data tidak dimuat.\")\n"
   ]
  },
  {
   "cell_type": "markdown",
   "id": "29c0c231",
   "metadata": {},
   "source": [
    "## 4. Pemisahan Data & Penyeimbangan dengan SMOTE"
   ]
  },
  {
   "cell_type": "code",
   "execution_count": 174,
   "id": "d5bcbc32",
   "metadata": {},
   "outputs": [
    {
     "name": "stdout",
     "output_type": "stream",
     "text": [
      "\n",
      "Ukuran data latih sebelum SMOTE:\n",
      " KATEGORI_RISIKO\n",
      "0    2659\n",
      "1     623\n",
      "Name: count, dtype: int64\n",
      "\n",
      "Ukuran data latih SETELAH SMOTE:\n",
      " KATEGORI_RISIKO\n",
      "0    2659\n",
      "1    2659\n",
      "Name: count, dtype: int64\n",
      "\n",
      "Data berhasil dipisahkan dan diseimbangkan.\n"
     ]
    }
   ],
   "source": [
    "if 'df_klasifikasi' in locals():\n",
    "    # Memisahkan data berdasarkan tahun\n",
    "    train_df = df_klasifikasi[df_klasifikasi['TAHUN'] <= 2022].copy()\n",
    "    test_df = df_klasifikasi[df_klasifikasi['TAHUN'] == 2023].copy()\n",
    "\n",
    "    kolom_target = 'KATEGORI_RISIKO'\n",
    "    kolom_drop = ['TAHUN', kolom_target]\n",
    "\n",
    "    X_train = train_df.drop(columns=kolom_drop)\n",
    "    y_train = train_df[kolom_target]\n",
    "\n",
    "    X_test = test_df.drop(columns=kolom_drop)\n",
    "    y_test = test_df[kolom_target]\n",
    "    \n",
    "    # Mengisi nilai kosong (NaN) dengan 0\n",
    "    X_train = X_train.fillna(0)\n",
    "    X_test = X_test.fillna(0)\n",
    "    \n",
    "    # Menyeimbangkan data latih dengan SMOTE\n",
    "    smote = SMOTE(random_state=42)\n",
    "    print(\"\\nUkuran data latih sebelum SMOTE:\\n\", y_train.value_counts())\n",
    "    X_train_resampled, y_train_resampled = smote.fit_resample(X_train, y_train)\n",
    "    print(\"\\nUkuran data latih SETELAH SMOTE:\\n\", y_train_resampled.value_counts())\n",
    "    \n",
    "    print(\"\\nData berhasil dipisahkan dan diseimbangkan.\")\n",
    "else:\n",
    "    print(\"\\nGagal melanjutkan karena data klasifikasi tidak dibuat.\")\n"
   ]
  },
  {
   "cell_type": "markdown",
   "id": "a55db7f7",
   "metadata": {},
   "source": [
    "## 5. Optimasi & Pelatihan Model Klasifikasi"
   ]
  },
  {
   "cell_type": "code",
   "execution_count": 175,
   "id": "b5f6d7e9",
   "metadata": {},
   "outputs": [
    {
     "name": "stdout",
     "output_type": "stream",
     "text": [
      "\n",
      "Memulai pencarian hyperparameter...\n",
      "Fitting 3 folds for each of 50 candidates, totalling 150 fits\n",
      "\n",
      "Pencarian selesai. Parameter terbaik ditemukan:\n",
      "{'n_estimators': 200, 'min_samples_split': 2, 'min_samples_leaf': 2, 'max_features': 'sqrt', 'max_depth': 30, 'class_weight': 'balanced_subsample'}\n"
     ]
    }
   ],
   "source": [
    "if 'X_train_resampled' in locals():\n",
    "    param_grid = {\n",
    "        'n_estimators': [100, 200, 300], 'max_features': ['sqrt', 'log2'],\n",
    "        'max_depth': [10, 20, 30, None], 'min_samples_split': [2, 5, 10],\n",
    "        'min_samples_leaf': [2, 4, 6], 'class_weight': ['balanced', 'balanced_subsample']\n",
    "    }\n",
    "    \n",
    "    clf_base = RandomForestClassifier(random_state=42)\n",
    "    clf_random_search = RandomizedSearchCV(estimator=clf_base, param_distributions=param_grid, n_iter=50, cv=3, verbose=2, random_state=42, n_jobs=-1)\n",
    "\n",
    "    print(\"\\nMemulai pencarian hyperparameter...\")\n",
    "    clf_random_search.fit(X_train_resampled, y_train_resampled)\n",
    "\n",
    "    best_clf_model = clf_random_search.best_estimator_\n",
    "    print(\"\\nPencarian selesai. Parameter terbaik ditemukan:\")\n",
    "    print(clf_random_search.best_params_)\n",
    "else:\n",
    "    print(\"\\nGagal melanjutkan karena data latih hasil SMOTE tidak ditemukan.\")"
   ]
  },
  {
   "cell_type": "markdown",
   "id": "0fe3bb6d",
   "metadata": {},
   "source": [
    "## 6. Evaluasi Performa Model Terbaik"
   ]
  },
  {
   "cell_type": "code",
   "execution_count": 176,
   "id": "249cc33c",
   "metadata": {},
   "outputs": [
    {
     "name": "stdout",
     "output_type": "stream",
     "text": [
      "\n",
      "--- LAPORAN KLASIFIKASI (MODEL TERBAIK) ---\n",
      "              precision    recall  f1-score   support\n",
      "\n",
      "    Aman (0)       0.72      0.94      0.81       444\n",
      "Berisiko (1)       0.63      0.23      0.33       208\n",
      "\n",
      "    accuracy                           0.71       652\n",
      "   macro avg       0.67      0.58      0.57       652\n",
      "weighted avg       0.69      0.71      0.66       652\n",
      "\n"
     ]
    },
    {
     "data": {
      "image/png": "[encoded data removed]",
      "text/plain": [
       "<Figure size 800x600 with 2 Axes>"
      ]
     },
     "metadata": {},
     "output_type": "display_data"
    }
   ],
   "source": [
    "if 'best_clf_model' in locals():\n",
    "    predictions = best_clf_model.predict(X_test)\n",
    "    display_labels = ['Aman (0)', 'Berisiko (1)']\n",
    "\n",
    "    print(\"\\n--- LAPORAN KLASIFIKASI (MODEL TERBAIK) ---\")\n",
    "    report = classification_report(y_test, predictions, target_names=display_labels)\n",
    "    print(report)\n",
    "\n",
    "    cm = confusion_matrix(y_test, predictions)\n",
    "    disp = ConfusionMatrixDisplay(confusion_matrix=cm, display_labels=display_labels)\n",
    "    \n",
    "    fig, ax = plt.subplots(figsize=(8, 6))\n",
    "    disp.plot(ax=ax, cmap='Blues')\n",
    "    plt.title('Confusion Matrix Model Klasifikasi Terbaik')\n",
    "    plt.show()\n",
    "else:\n",
    "    print(\"\\nGagal melanjutkan karena model terbaik tidak ditemukan.\")"
   ]
  },
  {
   "cell_type": "markdown",
   "id": "0a0d60ca",
   "metadata": {},
   "source": [
    "## 7. Analisis Ambang Batas (Threshold)"
   ]
  },
  {
   "cell_type": "code",
   "execution_count": 177,
   "id": "0ce8f468",
   "metadata": {},
   "outputs": [
    {
     "name": "stdout",
     "output_type": "stream",
     "text": [
      "\n",
      "--- Analisis Trade-Off FN vs FP dengan Berbagai Threshold ---\n",
      "\n",
      ">> Threshold = 0.2 | Gagal Deteksi (FN): 17 | Peringatan Palsu (FP): 215 | Deteksi Tepat (TP): 191\n",
      "\n",
      ">> Threshold = 0.3 | Gagal Deteksi (FN): 49 | Peringatan Palsu (FP): 113 | Deteksi Tepat (TP): 159\n",
      "\n",
      ">> Threshold = 0.4 | Gagal Deteksi (FN): 108 | Peringatan Palsu (FP): 62 | Deteksi Tepat (TP): 100\n",
      "\n",
      ">> Threshold = 0.5 | Gagal Deteksi (FN): 161 | Peringatan Palsu (FP): 28 | Deteksi Tepat (TP): 47\n",
      "\n",
      ">> Threshold = 0.6 | Gagal Deteksi (FN): 184 | Peringatan Palsu (FP): 12 | Deteksi Tepat (TP): 24\n",
      "\n",
      ">> Threshold = 0.7 | Gagal Deteksi (FN): 204 | Peringatan Palsu (FP): 1 | Deteksi Tepat (TP): 4\n"
     ]
    }
   ],
   "source": [
    "if 'best_clf_model' in locals():\n",
    "    print(\"\\n--- Analisis Trade-Off FN vs FP dengan Berbagai Threshold ---\")\n",
    "    probabilities = best_clf_model.predict_proba(X_test)[:, 1]\n",
    "    thresholds = [0.2, 0.3, 0.4, 0.5, 0.6, 0.7]\n",
    "\n",
    "    for th in thresholds:\n",
    "        pred_binary = (probabilities > th).astype(int)\n",
    "        cm = confusion_matrix(y_test, pred_binary, labels=[0, 1])\n",
    "        tn, fp, fn, tp = cm.ravel()\n",
    "        \n",
    "        print(f\"\\n>> Threshold = {th:.1f} | Gagal Deteksi (FN): {fn} | Peringatan Palsu (FP): {fp} | Deteksi Tepat (TP): {tp}\")\n",
    "else:\n",
    "    print(\"\\nGagal melanjutkan karena model terbaik tidak ditemukan.\")"
   ]
  },
  {
   "cell_type": "markdown",
   "id": "f9a964d0",
   "metadata": {},
   "source": [
    "## 10. Laporan Klasifikasi Final dengan Threshold Optimal (0.2)"
   ]
  },
  {
   "cell_type": "code",
   "execution_count": null,
   "id": "e7e60cbc",
   "metadata": {},
   "outputs": [
    {
     "name": "stdout",
     "output_type": "stream",
     "text": [
      "--- LAPORAN KLASIFIKASI FINAL (Threshold = 0.2) ---\n",
      "              precision    recall  f1-score   support\n",
      "\n",
      "    Aman (0)       0.93      0.52      0.66       444\n",
      "Berisiko (1)       0.47      0.92      0.62       208\n",
      "\n",
      "    accuracy                           0.64       652\n",
      "   macro avg       0.70      0.72      0.64       652\n",
      "weighted avg       0.78      0.64      0.65       652\n",
      "\n"
     ]
    },
    {
     "data": {
      "image/png": "[encoded data removed]",
      "text/plain": [
       "<Figure size 800x600 with 2 Axes>"
      ]
     },
     "metadata": {},
     "output_type": "display_data"
    }
   ],
   "source": [
    "# Pastikan best_clf_model, X_test, dan y_test sudah ada\n",
    "if 'best_clf_model' in locals():\n",
    "    # 1. Dapatkan probabilitas prediksi dari model\n",
    "    probabilities = best_clf_model.predict_proba(X_test)[:, 1]\n",
    "\n",
    "    # 2. Terapkan threshold 0.2 untuk membuat prediksi final\n",
    "    final_predictions = (probabilities > 0.2).astype(int)\n",
    "    \n",
    "    # 3. Definisikan label untuk laporan\n",
    "    display_labels = ['Aman (0)', 'Berisiko (1)']\n",
    "\n",
    "    # 4. Buat dan tampilkan laporan klasifikasi final\n",
    "    print(\"--- LAPORAN KLASIFIKASI FINAL (Threshold = 0.2) ---\")\n",
    "    final_report = classification_report(y_test, final_predictions, target_names=display_labels)\n",
    "    print(final_report)\n",
    "    \n",
    "    # 5. Tampilkan juga Confusion Matrix final\n",
    "    final_cm = confusion_matrix(y_test, final_predictions)\n",
    "    disp_final = ConfusionMatrixDisplay(confusion_matrix=final_cm, display_labels=display_labels)\n",
    "\n",
    "    fig, ax = plt.subplots(figsize=(8, 6))\n",
    "    disp_final.plot(ax=ax, cmap='YlGn')\n",
    "    plt.title('Confusion Matrix Final (Threshold = 0.2)')\n",
    "    plt.show()\n",
    "\n",
    "else:\n",
    "    print(\"ERROR: Model terbaik 'best_clf_model' tidak ditemukan.\")"
   ]
  }
 ],
 "metadata": {
  "kernelspec": {
   "display_name": "Python 3",
   "language": "python",
   "name": "python3"
  },
  "language_info": {
   "codemirror_mode": {
    "name": "ipython",
    "version": 3
   },
   "file_extension": ".py",
   "mimetype": "text/x-python",
   "name": "python",
   "nbconvert_exporter": "python",
   "pygments_lexer": "ipython3",
   "version": "3.13.3"
  }
 },
 "nbformat": 4,
 "nbformat_minor": 5
}
